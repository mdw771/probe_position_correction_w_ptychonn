{
 "cells": [
  {
   "cell_type": "code",
   "execution_count": 1,
   "id": "f38e88c4-a180-44c0-930c-ee618a009a93",
   "metadata": {
    "tags": []
   },
   "outputs": [],
   "source": [
    "%load_ext autoreload\n",
    "%autoreload 2"
   ]
  },
  {
   "cell_type": "code",
   "execution_count": 2,
   "id": "da1be5a8-6fc1-4824-8ef5-dfb35660f8e8",
   "metadata": {
    "tags": []
   },
   "outputs": [
    {
     "name": "stderr",
     "output_type": "stream",
     "text": [
      "[2023-11-22 16:55:52,158] Note: NumExpr detected 32 cores but \"NUMEXPR_MAX_THREADS\" not set, so enforcing safe limit of 8.\n",
      "[2023-11-22 16:55:52,160] NumExpr defaulting to 8 threads.\n"
     ]
    }
   ],
   "source": [
    "import sys\n",
    "sys.path.insert(0, '/data/programs/probe_position_correction_w_ptychonn/pppc')\n",
    "sys.path.insert(0, '/data/programs/probe_position_correction_w_ptychonn')\n",
    "import numpy as np\n",
    "import torch\n",
    "import matplotlib.pyplot as plt\n",
    "\n",
    "import pppc\n",
    "from pppc.configs import PtychoNNTrainingConfigDict\n",
    "from pppc.ptychonn.trainer import PtychoNNTrainer, PtychoNNHyperparameterScanner\n",
    "from pppc.ptychonn.dataset_handle import HDF5Dataset\n",
    "from pppc.ptychonn.model import PtychoNNModel, PtychoNNPhaseOnlyModel"
   ]
  },
  {
   "cell_type": "markdown",
   "id": "dfebbdfe-f880-46ce-8d51-c59294448cae",
   "metadata": {},
   "source": [
    "Create a baseline config dict. "
   ]
  },
  {
   "cell_type": "code",
   "execution_count": 3,
   "id": "34c0c711-4d0a-4924-a515-c9c3fc8904be",
   "metadata": {
    "tags": []
   },
   "outputs": [],
   "source": [
    "base_config_dict = PtychoNNTrainingConfigDict()\n",
    "base_config_dict['batch_size_per_process'] = 64\n",
    "base_config_dict['num_epochs'] = 1\n",
    "base_config_dict['learning_rate_per_process'] = 1e-3\n",
    "base_config_dict['optimizer'] = 'adam'\n",
    "base_config_dict['model_save_dir'] = '../../trained_models/model_36SpiralDatasets'\n",
    "base_config_dict['validation_ratio'] = 0.01\n",
    "dataset = HDF5Dataset('data/data_test.h5', verbose=False)\n",
    "base_config_dict['dataset'] = dataset\n",
    "base_config_dict['model'] = None\n",
    "base_config_dict['debug'] = False"
   ]
  },
  {
   "cell_type": "code",
   "execution_count": 4,
   "id": "d1bf774c-200d-4695-a381-e10a22574a0c",
   "metadata": {
    "tags": []
   },
   "outputs": [],
   "source": [
    "param_scan_dict = {\n",
    "    'model': [(PtychoNNPhaseOnlyModel, {}), (PtychoNNModel, {'n_levels': 3}), (PtychoNNModel, {'n_levels': 4}), ],\n",
    "    'batch_size_per_process': [64, 32],\n",
    "    'learning_rate_per_process': [1e-3, 1e-4]\n",
    "}"
   ]
  },
  {
   "cell_type": "code",
   "execution_count": 5,
   "id": "69d80206-32c3-4325-97cb-f519a68bf869",
   "metadata": {
    "tags": []
   },
   "outputs": [],
   "source": [
    "scanner = PtychoNNHyperparameterScanner(param_scan_dict, base_config_dict)\n",
    "scanner.build()"
   ]
  },
  {
   "cell_type": "code",
   "execution_count": 6,
   "id": "db0d194c-7f20-4e65-9345-d8f856bb4ca7",
   "metadata": {
    "tags": []
   },
   "outputs": [
    {
     "data": {
      "text/html": [
       "<div>\n",
       "<style scoped>\n",
       "    .dataframe tbody tr th:only-of-type {\n",
       "        vertical-align: middle;\n",
       "    }\n",
       "\n",
       "    .dataframe tbody tr th {\n",
       "        vertical-align: top;\n",
       "    }\n",
       "\n",
       "    .dataframe thead th {\n",
       "        text-align: right;\n",
       "    }\n",
       "</style>\n",
       "<table border=\"1\" class=\"dataframe\">\n",
       "  <thead>\n",
       "    <tr style=\"text-align: right;\">\n",
       "      <th></th>\n",
       "      <th>model</th>\n",
       "      <th>batch_size_per_process</th>\n",
       "      <th>learning_rate_per_process</th>\n",
       "      <th>min_val_loss_total</th>\n",
       "      <th>min_val_loss_mag</th>\n",
       "      <th>min_val_loss_phase</th>\n",
       "      <th>epoch_min_val_loss</th>\n",
       "    </tr>\n",
       "  </thead>\n",
       "  <tbody>\n",
       "    <tr>\n",
       "      <th>0</th>\n",
       "      <td>PtychoNNPhaseOnlyModel</td>\n",
       "      <td>64</td>\n",
       "      <td>0.0010</td>\n",
       "      <td>0.0</td>\n",
       "      <td>0.0</td>\n",
       "      <td>0.0</td>\n",
       "      <td>0.0</td>\n",
       "    </tr>\n",
       "    <tr>\n",
       "      <th>1</th>\n",
       "      <td>PtychoNNPhaseOnlyModel</td>\n",
       "      <td>64</td>\n",
       "      <td>0.0001</td>\n",
       "      <td>0.0</td>\n",
       "      <td>0.0</td>\n",
       "      <td>0.0</td>\n",
       "      <td>0.0</td>\n",
       "    </tr>\n",
       "    <tr>\n",
       "      <th>2</th>\n",
       "      <td>PtychoNNPhaseOnlyModel</td>\n",
       "      <td>32</td>\n",
       "      <td>0.0010</td>\n",
       "      <td>0.0</td>\n",
       "      <td>0.0</td>\n",
       "      <td>0.0</td>\n",
       "      <td>0.0</td>\n",
       "    </tr>\n",
       "    <tr>\n",
       "      <th>3</th>\n",
       "      <td>PtychoNNPhaseOnlyModel</td>\n",
       "      <td>32</td>\n",
       "      <td>0.0001</td>\n",
       "      <td>0.0</td>\n",
       "      <td>0.0</td>\n",
       "      <td>0.0</td>\n",
       "      <td>0.0</td>\n",
       "    </tr>\n",
       "    <tr>\n",
       "      <th>4</th>\n",
       "      <td>PtychoNNModel_nLevels_3</td>\n",
       "      <td>64</td>\n",
       "      <td>0.0010</td>\n",
       "      <td>0.0</td>\n",
       "      <td>0.0</td>\n",
       "      <td>0.0</td>\n",
       "      <td>0.0</td>\n",
       "    </tr>\n",
       "    <tr>\n",
       "      <th>5</th>\n",
       "      <td>PtychoNNModel_nLevels_3</td>\n",
       "      <td>64</td>\n",
       "      <td>0.0001</td>\n",
       "      <td>0.0</td>\n",
       "      <td>0.0</td>\n",
       "      <td>0.0</td>\n",
       "      <td>0.0</td>\n",
       "    </tr>\n",
       "    <tr>\n",
       "      <th>6</th>\n",
       "      <td>PtychoNNModel_nLevels_3</td>\n",
       "      <td>32</td>\n",
       "      <td>0.0010</td>\n",
       "      <td>0.0</td>\n",
       "      <td>0.0</td>\n",
       "      <td>0.0</td>\n",
       "      <td>0.0</td>\n",
       "    </tr>\n",
       "    <tr>\n",
       "      <th>7</th>\n",
       "      <td>PtychoNNModel_nLevels_3</td>\n",
       "      <td>32</td>\n",
       "      <td>0.0001</td>\n",
       "      <td>0.0</td>\n",
       "      <td>0.0</td>\n",
       "      <td>0.0</td>\n",
       "      <td>0.0</td>\n",
       "    </tr>\n",
       "    <tr>\n",
       "      <th>8</th>\n",
       "      <td>PtychoNNModel_nLevels_4</td>\n",
       "      <td>64</td>\n",
       "      <td>0.0010</td>\n",
       "      <td>0.0</td>\n",
       "      <td>0.0</td>\n",
       "      <td>0.0</td>\n",
       "      <td>0.0</td>\n",
       "    </tr>\n",
       "    <tr>\n",
       "      <th>9</th>\n",
       "      <td>PtychoNNModel_nLevels_4</td>\n",
       "      <td>64</td>\n",
       "      <td>0.0001</td>\n",
       "      <td>0.0</td>\n",
       "      <td>0.0</td>\n",
       "      <td>0.0</td>\n",
       "      <td>0.0</td>\n",
       "    </tr>\n",
       "    <tr>\n",
       "      <th>10</th>\n",
       "      <td>PtychoNNModel_nLevels_4</td>\n",
       "      <td>32</td>\n",
       "      <td>0.0010</td>\n",
       "      <td>0.0</td>\n",
       "      <td>0.0</td>\n",
       "      <td>0.0</td>\n",
       "      <td>0.0</td>\n",
       "    </tr>\n",
       "    <tr>\n",
       "      <th>11</th>\n",
       "      <td>PtychoNNModel_nLevels_4</td>\n",
       "      <td>32</td>\n",
       "      <td>0.0001</td>\n",
       "      <td>0.0</td>\n",
       "      <td>0.0</td>\n",
       "      <td>0.0</td>\n",
       "      <td>0.0</td>\n",
       "    </tr>\n",
       "  </tbody>\n",
       "</table>\n",
       "</div>"
      ],
      "text/plain": [
       "                      model  batch_size_per_process  \\\n",
       "0    PtychoNNPhaseOnlyModel                      64   \n",
       "1    PtychoNNPhaseOnlyModel                      64   \n",
       "2    PtychoNNPhaseOnlyModel                      32   \n",
       "3    PtychoNNPhaseOnlyModel                      32   \n",
       "4   PtychoNNModel_nLevels_3                      64   \n",
       "5   PtychoNNModel_nLevels_3                      64   \n",
       "6   PtychoNNModel_nLevels_3                      32   \n",
       "7   PtychoNNModel_nLevels_3                      32   \n",
       "8   PtychoNNModel_nLevels_4                      64   \n",
       "9   PtychoNNModel_nLevels_4                      64   \n",
       "10  PtychoNNModel_nLevels_4                      32   \n",
       "11  PtychoNNModel_nLevels_4                      32   \n",
       "\n",
       "    learning_rate_per_process  min_val_loss_total  min_val_loss_mag  \\\n",
       "0                      0.0010                 0.0               0.0   \n",
       "1                      0.0001                 0.0               0.0   \n",
       "2                      0.0010                 0.0               0.0   \n",
       "3                      0.0001                 0.0               0.0   \n",
       "4                      0.0010                 0.0               0.0   \n",
       "5                      0.0001                 0.0               0.0   \n",
       "6                      0.0010                 0.0               0.0   \n",
       "7                      0.0001                 0.0               0.0   \n",
       "8                      0.0010                 0.0               0.0   \n",
       "9                      0.0001                 0.0               0.0   \n",
       "10                     0.0010                 0.0               0.0   \n",
       "11                     0.0001                 0.0               0.0   \n",
       "\n",
       "    min_val_loss_phase  epoch_min_val_loss  \n",
       "0                  0.0                 0.0  \n",
       "1                  0.0                 0.0  \n",
       "2                  0.0                 0.0  \n",
       "3                  0.0                 0.0  \n",
       "4                  0.0                 0.0  \n",
       "5                  0.0                 0.0  \n",
       "6                  0.0                 0.0  \n",
       "7                  0.0                 0.0  \n",
       "8                  0.0                 0.0  \n",
       "9                  0.0                 0.0  \n",
       "10                 0.0                 0.0  \n",
       "11                 0.0                 0.0  "
      ]
     },
     "execution_count": 6,
     "metadata": {},
     "output_type": "execute_result"
    }
   ],
   "source": [
    "scanner.result_table"
   ]
  },
  {
   "cell_type": "code",
   "execution_count": null,
   "id": "5678a0a5-cc88-4935-affe-1681df7a0d76",
   "metadata": {
    "tags": []
   },
   "outputs": [
    {
     "name": "stderr",
     "output_type": "stream",
     "text": [
      "  0%|                                                                                                                                                                                                                                                    | 0/12 [00:00<?, ?it/s][2023-11-22 16:55:53,185] Using DataParallel with 2 devices.\n",
      "[2023-11-22 16:56:16,717] Saving improved model after Val Loss improved from inf to 0.54966\n",
      "  8%|███████████████████▋                                                                                                                                                                                                                        | 1/12 [00:23<04:21, 23.77s/it][2023-11-22 16:56:16,857] Using DataParallel with 2 devices.\n"
     ]
    },
    {
     "name": "stdout",
     "output_type": "stream",
     "text": [
      "Device 0 memory info:\n",
      "    8080.375 MB total\n",
      "    1468.0 MB reserved\n",
      "    11.21533203125 MB allocated\n"
     ]
    },
    {
     "name": "stderr",
     "output_type": "stream",
     "text": [
      "[2023-11-22 16:56:38,546] Saving improved model after Val Loss improved from inf to 0.54921\n",
      " 17%|███████████████████████████████████████▎                                                                                                                                                                                                    | 2/12 [00:45<03:46, 22.62s/it][2023-11-22 16:56:38,679] Using DataParallel with 2 devices.\n"
     ]
    },
    {
     "name": "stdout",
     "output_type": "stream",
     "text": [
      "Device 0 memory info:\n",
      "    8080.375 MB total\n",
      "    1492.0 MB reserved\n",
      "    22.4814453125 MB allocated\n"
     ]
    },
    {
     "name": "stderr",
     "output_type": "stream",
     "text": [
      "[2023-11-22 16:57:02,749] Saving improved model after Val Loss improved from inf to 0.53711\n",
      " 25%|███████████████████████████████████████████████████████████                                                                                                                                                                                 | 3/12 [01:09<03:29, 23.32s/it][2023-11-22 16:57:02,833] Using DataParallel with 2 devices.\n"
     ]
    },
    {
     "name": "stdout",
     "output_type": "stream",
     "text": [
      "Device 0 memory info:\n",
      "    8080.375 MB total\n",
      "    486.0 MB reserved\n",
      "    33.69677734375 MB allocated\n"
     ]
    }
   ],
   "source": [
    "scanner.run()\n",
    "scanner.result_table"
   ]
  },
  {
   "cell_type": "code",
   "execution_count": null,
   "id": "15a6bdd2-0881-4c73-9b86-6c6db0930c86",
   "metadata": {
    "tags": []
   },
   "outputs": [],
   "source": [
    "#scanner.plot_all_training_history()\n",
    "scanner.run_testing_for_all((0, 1))"
   ]
  },
  {
   "cell_type": "code",
   "execution_count": null,
   "id": "c28c12dc-9d2a-43ee-83f4-b979ed6df5ed",
   "metadata": {},
   "outputs": [],
   "source": []
  }
 ],
 "metadata": {
  "kernelspec": {
   "display_name": "Python 3 (ipykernel)",
   "language": "python",
   "name": "python3"
  },
  "language_info": {
   "codemirror_mode": {
    "name": "ipython",
    "version": 3
   },
   "file_extension": ".py",
   "mimetype": "text/x-python",
   "name": "python",
   "nbconvert_exporter": "python",
   "pygments_lexer": "ipython3",
   "version": "3.11.5"
  }
 },
 "nbformat": 4,
 "nbformat_minor": 5
}
