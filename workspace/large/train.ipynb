{
 "cells": [
  {
   "cell_type": "code",
   "execution_count": 1,
   "id": "f38e88c4-a180-44c0-930c-ee618a009a93",
   "metadata": {
    "tags": []
   },
   "outputs": [],
   "source": [
    "%load_ext autoreload\n",
    "%autoreload 2"
   ]
  },
  {
   "cell_type": "code",
   "execution_count": 2,
   "id": "da1be5a8-6fc1-4824-8ef5-dfb35660f8e8",
   "metadata": {
    "tags": []
   },
   "outputs": [
    {
     "name": "stderr",
     "output_type": "stream",
     "text": [
      "[2023-11-21 17:19:35,367] Note: NumExpr detected 32 cores but \"NUMEXPR_MAX_THREADS\" not set, so enforcing safe limit of 8.\n",
      "[2023-11-21 17:19:35,370] NumExpr defaulting to 8 threads.\n"
     ]
    }
   ],
   "source": [
    "import sys\n",
    "sys.path.insert(0, '/data/programs/probe_position_correction_w_ptychonn/pppc')\n",
    "sys.path.insert(0, '/data/programs/probe_position_correction_w_ptychonn')\n",
    "import numpy as np\n",
    "import torch\n",
    "import matplotlib.pyplot as plt\n",
    "\n",
    "import pppc\n",
    "from pppc.configs import PtychoNNTrainingConfigDict\n",
    "from pppc.ptychonn.trainer import PtychoNNTrainer\n",
    "from pppc.ptychonn.dataset_handle import HDF5Dataset"
   ]
  },
  {
   "cell_type": "code",
   "execution_count": 3,
   "id": "34c0c711-4d0a-4924-a515-c9c3fc8904be",
   "metadata": {
    "tags": []
   },
   "outputs": [],
   "source": [
    "config_dict = PtychoNNTrainingConfigDict()\n",
    "config_dict['batch_size_per_process'] = 64\n",
    "config_dict['num_epochs'] = 60\n",
    "config_dict['learning_rate_per_process'] = 1e-3\n",
    "config_dict['optimizer'] = 'adam'\n",
    "config_dict['model_save_dir'] = '../../trained_models/model_36SpiralDatasets'\n",
    "config_dict['validation_ratio'] = 0.01\n",
    "dataset = HDF5Dataset('data/data_train.h5', verbose=False)\n",
    "config_dict['dataset'] = dataset\n",
    "config_dict['debug'] = False"
   ]
  },
  {
   "cell_type": "markdown",
   "id": "9c814536-ec34-4bd6-8c60-56aa045dca59",
   "metadata": {},
   "source": [
    "Check some data distributions. "
   ]
  },
  {
   "cell_type": "code",
   "execution_count": null,
   "id": "19ba3208-0ca4-445e-b635-3bea3a4e225a",
   "metadata": {
    "tags": []
   },
   "outputs": [],
   "source": [
    "def plot_distribution(x):\n",
    "    x = x.reshape(-1)\n",
    "    x = x[x > 0]\n",
    "    plt.hist(np.log10(x), bins=32)\n",
    "    plt.show()\n",
    "\n",
    "x, y_mag, y_ph = dataset.__getitems__(list(range(100)))\n",
    "plot_distribution(x.numpy())\n",
    "plot_distribution(y_mag.numpy())\n",
    "plot_distribution(y_ph.numpy())"
   ]
  },
  {
   "cell_type": "code",
   "execution_count": null,
   "id": "69d80206-32c3-4325-97cb-f519a68bf869",
   "metadata": {
    "tags": []
   },
   "outputs": [
    {
     "name": "stderr",
     "output_type": "stream",
     "text": [
      "[2023-11-21 17:19:38,860] Using DataParallel with 2 devices.\n",
      "100%|█████████████████████████████████████████████████████████████████████████████████████████████████████████████████████████████████████████████████████████████████████████████████████████████████████████████████████████████████████████| 268/268 [04:18<00:00,  1.04it/s]\n",
      "[2023-11-21 17:23:59,635] Saving improved model after Val Loss improved from inf to 0.54044\n",
      "[2023-11-21 17:23:59,658] Epoch: 0 | FT  | Train Loss: 0.63818 | Val Loss: 0.54044\n",
      "[2023-11-21 17:23:59,659] Epoch: 0 | Amp | Train Loss: 0.0816 | Val Loss: 0.0253\n",
      "[2023-11-21 17:23:59,659] Epoch: 0 | Ph  | Train Loss: 0.557 | Val Loss: 0.515\n",
      "[2023-11-21 17:23:59,660] Epoch: 0 | Ending LR: 0.000503 \n",
      " 15%|██████████████████████████████████▉                                                                                                                                                                                                       | 40/268 [00:37<03:43,  1.02it/s]"
     ]
    }
   ],
   "source": [
    "trainer = PtychoNNTrainer(config_dict)\n",
    "trainer.build()\n",
    "trainer.run_training()"
   ]
  },
  {
   "cell_type": "code",
   "execution_count": null,
   "id": "9cee9d34-d678-46a0-adcf-664720e39601",
   "metadata": {
    "tags": []
   },
   "outputs": [],
   "source": [
    "trainer.plot_training_history()"
   ]
  }
 ],
 "metadata": {
  "kernelspec": {
   "display_name": "Python 3 (ipykernel)",
   "language": "python",
   "name": "python3"
  },
  "language_info": {
   "codemirror_mode": {
    "name": "ipython",
    "version": 3
   },
   "file_extension": ".py",
   "mimetype": "text/x-python",
   "name": "python",
   "nbconvert_exporter": "python",
   "pygments_lexer": "ipython3",
   "version": "3.11.5"
  }
 },
 "nbformat": 4,
 "nbformat_minor": 5
}
